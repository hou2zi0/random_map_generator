{
 "cells": [
  {
   "cell_type": "markdown",
   "metadata": {
    "toc": "true"
   },
   "source": [
    "# Table of Contents\n",
    " <p>"
   ]
  },
  {
   "cell_type": "code",
   "execution_count": 370,
   "metadata": {
    "ExecuteTime": {
     "end_time": "2020-02-29T09:58:51.901328Z",
     "start_time": "2020-02-29T09:58:51.892391Z"
    }
   },
   "outputs": [],
   "source": [
    "from datetime import date"
   ]
  },
  {
   "cell_type": "code",
   "execution_count": 163,
   "metadata": {
    "ExecuteTime": {
     "end_time": "2020-02-26T15:57:50.126414Z",
     "start_time": "2020-02-26T15:57:43.672473Z"
    }
   },
   "outputs": [],
   "source": [
    "%%cython\n",
    "\"\"\"Perlin noise implementation.\"\"\"\n",
    "# Licensed under ISC\n",
    "# Permission to use, copy, modify, and/or distribute this software for any purpose with \n",
    "# or without fee is hereby granted, provided that the above copyright notice and this \n",
    "# permission notice appear in all copies.\n",
    "#THE SOFTWARE IS PROVIDED \"AS IS\" AND THE AUTHOR DISCLAIMS ALL WARRANTIES WITH REGARD \n",
    "# TO THIS SOFTWARE INCLUDING ALL IMPLIED WARRANTIES OF MERCHANTABILITY AND FITNESS. IN NO \n",
    "# EVENT SHALL THE AUTHOR BE LIABLE FOR ANY SPECIAL, DIRECT, INDIRECT, OR CONSEQUENTIAL DAMAGES \n",
    "# OR ANY DAMAGES WHATSOEVER RESULTING FROM LOSS OF USE, DATA OR PROFITS, WHETHER IN AN ACTION \n",
    "# OF CONTRACT, NEGLIGENCE OR OTHER TORTIOUS ACTION, ARISING OUT OF OR IN CONNECTION WITH THE \n",
    "# USE OR PERFORMANCE OF THIS SOFTWARE.\n",
    "# Python code from Eevee: https://gist.github.com/eevee \n",
    "# Eevee’s Gist: https://gist.github.com/eevee/26f547457522755cb1fb8739d0ea89a1\n",
    "from itertools import product\n",
    "import math\n",
    "import random\n",
    "\n",
    "\n",
    "cpdef smoothstep(t):\n",
    "    \"\"\"Smooth curve with a zero derivative at 0 and 1, making it useful for\n",
    "    interpolating.\n",
    "    \"\"\"\n",
    "    return t * t * (3. - 2. * t)\n",
    "\n",
    "\n",
    "cpdef lerp(t, a, b):\n",
    "    \"\"\"Linear interpolation between a and b, given a fraction t.\"\"\"\n",
    "    return a + t * (b - a)\n",
    "\n",
    "\n",
    "cdef class PerlinNoiseFactory(object):\n",
    "    \"\"\"Callable that produces Perlin noise for an arbitrary point in an\n",
    "    arbitrary number of dimensions.  The underlying grid is aligned with the\n",
    "    integers.\n",
    "    There is no limit to the coordinates used; new gradients are generated on\n",
    "    the fly as necessary.\n",
    "    \"\"\"\n",
    "    cdef public int dimension\n",
    "    cdef public int octaves\n",
    "    cdef public tile\n",
    "    cdef public unbias\n",
    "    cdef public scale_factor\n",
    "    cdef public gradient\n",
    "\n",
    "    def __init__(self, dimension, octaves=1, tile=(), unbias=False):\n",
    "        \"\"\"Create a new Perlin noise factory in the given number of dimensions,\n",
    "        which should be an integer and at least 1.\n",
    "        More octaves create a foggier and more-detailed noise pattern.  More\n",
    "        than 4 octaves is rather excessive.\n",
    "        ``tile`` can be used to make a seamlessly tiling pattern.  For example:\n",
    "            pnf = PerlinNoiseFactory(2, tile=(0, 3))\n",
    "        This will produce noise that tiles every 3 units vertically, but never\n",
    "        tiles horizontally.\n",
    "        If ``unbias`` is true, the smoothstep function will be applied to the\n",
    "        output before returning it, to counteract some of Perlin noise's\n",
    "        significant bias towards the center of its output range.\n",
    "        \"\"\"\n",
    "        self.dimension = dimension\n",
    "        self.octaves = octaves\n",
    "        self.tile = tile + (0,) * dimension\n",
    "        self.unbias = unbias\n",
    "\n",
    "        # For n dimensions, the range of Perlin noise is ±sqrt(n)/2; multiply\n",
    "        # by this to scale to ±1\n",
    "        self.scale_factor = 2 * dimension ** -0.5\n",
    "\n",
    "        self.gradient = {}\n",
    "\n",
    "    def _generate_gradient(self):\n",
    "        # Generate a random unit vector at each grid point -- this is the\n",
    "        # \"gradient\" vector, in that the grid tile slopes towards it\n",
    "\n",
    "        # 1 dimension is special, since the only unit vector is trivial;\n",
    "        # instead, use a slope between -1 and 1\n",
    "        if self.dimension == 1:\n",
    "            return (random.uniform(-1, 1),)\n",
    "\n",
    "        # Generate a random point on the surface of the unit n-hypersphere;\n",
    "        # this is the same as a random unit vector in n dimensions.  Thanks\n",
    "        # to: http://mathworld.wolfram.com/SpherePointPicking.html\n",
    "        # Pick n normal random variables with stddev 1\n",
    "        random_point = [random.gauss(0, 1) for _ in range(self.dimension)]\n",
    "        # Then scale the result to a unit vector\n",
    "        scale = sum(n * n for n in random_point) ** -0.5\n",
    "        return tuple(coord * scale for coord in random_point)\n",
    "\n",
    "    def get_plain_noise(self, *point):\n",
    "        \"\"\"Get plain noise for a single point, without taking into account\n",
    "        either octaves or tiling.\n",
    "        \"\"\"\n",
    "        if len(point) != self.dimension:\n",
    "            raise ValueError(\"Expected {} values, got {}\".format(\n",
    "                self.dimension, len(point)))\n",
    "\n",
    "        # Build a list of the (min, max) bounds in each dimension\n",
    "        grid_coords = []\n",
    "        for coord in point:\n",
    "            min_coord = math.floor(coord)\n",
    "            max_coord = min_coord + 1\n",
    "            grid_coords.append((min_coord, max_coord))\n",
    "\n",
    "        # Compute the dot product of each gradient vector and the point's\n",
    "        # distance from the corresponding grid point.  This gives you each\n",
    "        # gradient's \"influence\" on the chosen point.\n",
    "        dots = []\n",
    "        for grid_point in product(*grid_coords):\n",
    "            if grid_point not in self.gradient:\n",
    "                self.gradient[grid_point] = self._generate_gradient()\n",
    "            gradient = self.gradient[grid_point]\n",
    "\n",
    "            dot = 0\n",
    "            for i in range(self.dimension):\n",
    "                dot += gradient[i] * (point[i] - grid_point[i])\n",
    "            dots.append(dot)\n",
    "\n",
    "        # Interpolate all those dot products together.  The interpolation is\n",
    "        # done with smoothstep to smooth out the slope as you pass from one\n",
    "        # grid cell into the next.\n",
    "        # Due to the way product() works, dot products are ordered such that\n",
    "        # the last dimension alternates: (..., min), (..., max), etc.  So we\n",
    "        # can interpolate adjacent pairs to \"collapse\" that last dimension.  Then\n",
    "        # the results will alternate in their second-to-last dimension, and so\n",
    "        # forth, until we only have a single value left.\n",
    "        dim = self.dimension\n",
    "        while len(dots) > 1:\n",
    "            dim -= 1\n",
    "            s = smoothstep(point[dim] - grid_coords[dim][0])\n",
    "\n",
    "            next_dots = []\n",
    "            while dots:\n",
    "                next_dots.append(lerp(s, dots.pop(0), dots.pop(0)))\n",
    "\n",
    "            dots = next_dots\n",
    "\n",
    "        return dots[0] * self.scale_factor\n",
    "\n",
    "    def __call__(self, *point):\n",
    "        \"\"\"Get the value of this Perlin noise function at the given point.  The\n",
    "        number of values given should match the number of dimensions.\n",
    "        \"\"\"\n",
    "        ret = 0\n",
    "        for o in range(self.octaves):\n",
    "            o2 = 1 << o\n",
    "            new_point = []\n",
    "            for i, coord in enumerate(point):\n",
    "                coord *= o2\n",
    "                if self.tile[i]:\n",
    "                    coord %= self.tile[i] * o2\n",
    "                new_point.append(coord)\n",
    "            ret += self.get_plain_noise(*new_point) / o2\n",
    "\n",
    "        # Need to scale n back down since adding all those extra octaves has\n",
    "        # probably expanded it beyond ±1\n",
    "        # 1 octave: ±1\n",
    "        # 2 octaves: ±1½\n",
    "        # 3 octaves: ±1¾\n",
    "        ret /= 2 - 2 ** (1 - self.octaves)\n",
    "\n",
    "        if self.unbias:\n",
    "            # The output of the plain Perlin noise algorithm has a fairly\n",
    "            # strong bias towards the center due to the central limit theorem\n",
    "            # -- in fact the top and bottom 1/8 virtually never happen.  That's\n",
    "            # a quarter of our entire output range!  If only we had a function\n",
    "            # in [0..1] that could introduce a bias towards the endpoints...\n",
    "            r = (ret + 1) / 2\n",
    "            # Doing it this many times is a completely made-up heuristic.\n",
    "            for _ in range(int(self.octaves / 2 + 0.5)):\n",
    "                r = smoothstep(r)\n",
    "            ret = r * 2 - 1\n",
    "\n",
    "        return ret"
   ]
  },
  {
   "cell_type": "code",
   "execution_count": 274,
   "metadata": {
    "ExecuteTime": {
     "end_time": "2020-02-26T19:24:38.478108Z",
     "start_time": "2020-02-26T19:24:34.847442Z"
    }
   },
   "outputs": [],
   "source": [
    "%%cython\n",
    "cimport numpy\n",
    "import numpy as np\n",
    "from __main__ import PerlinNoiseFactory\n",
    "\n",
    "cpdef callPN(int frameSize = 1024, int scale = 300, int dimension = 2, int octaves = 1, bint unbias = True): \n",
    "\n",
    "    cdef numpy.ndarray noise = np.zeros((frameSize,frameSize), dtype=np.float)\n",
    "\n",
    "    PN = PerlinNoiseFactory(dimension=dimension, \n",
    "                            octaves=octaves,\n",
    "                            unbias=unbias\n",
    "                           )\n",
    "\n",
    "    cdef int i\n",
    "    cdef int j\n",
    "    for i in range(frameSize):\n",
    "        for j in range(frameSize):\n",
    "            noise[i,j] = PN(i/scale,j/scale)\n",
    "\n",
    "    return noise\n"
   ]
  },
  {
   "cell_type": "code",
   "execution_count": 252,
   "metadata": {
    "ExecuteTime": {
     "end_time": "2020-02-26T18:44:11.252006Z",
     "start_time": "2020-02-26T18:43:42.983716Z"
    }
   },
   "outputs": [
    {
     "data": {
      "image/png": "[encoded data removed]",
      "text/plain": [
       "<Figure size 432x288 with 1 Axes>"
      ]
     },
     "metadata": {
      "needs_background": "light"
     },
     "output_type": "display_data"
    }
   ],
   "source": [
    "# Shows the distribution of the Perlin Noise\n",
    "a = callPN(scale=500, octaves=4).flatten()\n",
    "noise = np.interp(a, (a.min(), a.max()), (0, +1))\n",
    "plt.plot(noise)\n",
    "plt.ylabel('some numbers')\n",
    "plt.show()"
   ]
  },
  {
   "cell_type": "code",
   "execution_count": 376,
   "metadata": {
    "ExecuteTime": {
     "end_time": "2020-02-29T11:40:58.387329Z",
     "start_time": "2020-02-29T11:40:52.462144Z"
    }
   },
   "outputs": [],
   "source": [
    "%%cython\n",
    "cimport numpy\n",
    "from __main__ import callPN\n",
    "\n",
    "from PIL import Image\n",
    "from PIL import ImageDraw  \n",
    "import numpy as np\n",
    "import random\n",
    "\n",
    "cpdef generateMap(str filename, int size = 3000, int scale = 3000, int octaves = 8, bint unbias = True):\n",
    "    # Map colours\n",
    "    cdef numpy.ndarray[numpy.int64_t, ndim=1] very_dark_blue = np.asarray([0,0,89, 255], dtype=int)\n",
    "    cdef numpy.ndarray[numpy.int64_t, ndim=1] dark_blue = np.asarray([0,0,139, 255], dtype=int)\n",
    "    cdef numpy.ndarray[numpy.int64_t, ndim=1] blue = np.asarray([65,105,225, 255], dtype=int)\n",
    "    cdef numpy.ndarray[numpy.int64_t, ndim=1] light_blue = np.asarray([135,206,250, 255], dtype=int)\n",
    "    cdef numpy.ndarray[numpy.int64_t, ndim=1] green = np.asarray([34,139,34, 255], dtype=int)\n",
    "    cdef numpy.ndarray[numpy.int64_t, ndim=1] dark_green = np.asarray([0,100,0, 255], dtype=int)\n",
    "    cdef numpy.ndarray[numpy.int64_t, ndim=1] sandy = np.asarray([210,180,140, 255], dtype=int)\n",
    "    cdef numpy.ndarray[numpy.int64_t, ndim=1] beach = np.asarray([238, 214, 175, 255], dtype=int)\n",
    "    cdef numpy.ndarray[numpy.int64_t, ndim=1] snow = np.asarray([255, 250, 250, 255], dtype=int)\n",
    "    cdef numpy.ndarray[numpy.int64_t, ndim=1] mountain = np.asarray([139, 137, 137, 255], dtype=int)\n",
    "    cdef numpy.ndarray[numpy.int64_t, ndim=1] gravel = np.asarray([83,84,78, 255], dtype=int)\n",
    "    cdef numpy.ndarray[numpy.int64_t, ndim=1] dark_gravel = np.asarray([95,95,90, 255], dtype=int)\n",
    "    cdef numpy.ndarray[numpy.int64_t, ndim=1] light_gravel = np.asarray([117, 118, 113, 255], dtype=int)\n",
    "    cdef numpy.ndarray[numpy.int64_t, ndim=1] wheat = np.asarray([245,222,179, 255], dtype=int)\n",
    "\n",
    "    cdef list shape = [size, size]\n",
    "    cdef numpy.ndarray[numpy.int64_t, ndim=3] pixels = np.zeros((shape[0], shape[1], 4), dtype=int)\n",
    "\n",
    "    cdef numpy.ndarray a = callPN( frameSize=size,\n",
    "                scale=scale, \n",
    "                octaves=octaves,\n",
    "                unbias=unbias\n",
    "                ).flatten()\n",
    "    cdef numpy.ndarray noise = np.interp(a, (a.min(), a.max()), (0, 1))\n",
    "\n",
    "    cdef float n\n",
    "    cdef numpy.ndarray[numpy.int64_t, ndim=1] p\n",
    "    cdef int i\n",
    "    cdef int j\n",
    "    cdef int index\n",
    "    for i in np.nditer(range(shape[0])):\n",
    "        for j in np.nditer(range(shape[0])):\n",
    "            i = i\n",
    "            j = j\n",
    "            index = j+(i * shape[0])\n",
    "\n",
    "            n = noise[index]\n",
    "\n",
    "            if (n < 0.20):\n",
    "                p = very_dark_blue\n",
    "            elif (n < 0.40):\n",
    "                p = dark_blue\n",
    "            elif (n < 0.49):\n",
    "                p = blue\n",
    "            elif (n < 0.50):\n",
    "                p = light_blue\n",
    "                #beach_coords.append([i,j])\n",
    "            elif (n < 0.51 ):\n",
    "                p = sandy\n",
    "            elif (n < 0.52 ):\n",
    "                p = beach\n",
    "            #elif (n < 0.65):\n",
    "            #    n = green\n",
    "            #elif (n < 0.68):\n",
    "            #    n = wheat\n",
    "            elif (n < 0.70):\n",
    "                p = green\n",
    "            elif (n < 0.84):\n",
    "                p = dark_green\n",
    "                #forrest_coords.append([i,j])\n",
    "            elif (n < 0.88):\n",
    "                p = gravel\n",
    "            elif (n < 0.91):\n",
    "                p = dark_gravel\n",
    "            elif (n < 0.95):\n",
    "                p = light_gravel\n",
    "            elif (n < 0.98):\n",
    "                p = mountain\n",
    "            elif (n <= 1.0):\n",
    "                p = snow\n",
    "\n",
    "            pixels[i,j] = p\n",
    "\n",
    "\n",
    "    # Use PIL to create an image from the new array of pixels\n",
    "    new_image = Image.fromarray(np.array(pixels, dtype=np.uint8), 'RGBA')#.resize((5000, 5000), Image.ANTIALIAS)\n",
    "\n",
    "    new_image.save(f'{filename}.png')\n",
    "    #new_image.show('interpolated_4.png')"
   ]
  },
  {
   "cell_type": "code",
   "execution_count": 380,
   "metadata": {
    "ExecuteTime": {
     "end_time": "2020-02-29T11:52:50.370586Z",
     "start_time": "2020-02-29T11:52:49.385705Z"
    }
   },
   "outputs": [],
   "source": [
    "today = date.today()\n",
    "\n",
    "for i in range(5,10):\n",
    "    generateMap(f\"{today.strftime('%Y-%m-%d')}__{str(i+1).zfill(3)}\", size=1000, scale=1000)"
   ]
  },
  {
   "cell_type": "code",
   "execution_count": 381,
   "metadata": {
    "ExecuteTime": {
     "end_time": "2020-02-29T11:55:40.211913Z",
     "start_time": "2020-02-29T11:55:40.200413Z"
    }
   },
   "outputs": [],
   "source": [
    "# ToDo add Option to draw Grid over image"
   ]
  },
  {
   "cell_type": "code",
   "execution_count": null,
   "metadata": {},
   "outputs": [],
   "source": []
  }
 ],
 "metadata": {
  "kernelspec": {
   "display_name": "Python 3",
   "language": "python",
   "name": "python3"
  },
  "language_info": {
   "codemirror_mode": {
    "name": "ipython",
    "version": 3
   },
   "file_extension": ".py",
   "mimetype": "text/x-python",
   "name": "python",
   "nbconvert_exporter": "python",
   "pygments_lexer": "ipython3",
   "version": "3.7.4"
  },
  "toc": {
   "colors": {
    "hover_highlight": "#DAA520",
    "navigate_num": "#000000",
    "navigate_text": "#333333",
    "running_highlight": "#FF0000",
    "selected_highlight": "#FFD700",
    "sidebar_border": "#EEEEEE",
    "wrapper_background": "#FFFFFF"
   },
   "moveMenuLeft": true,
   "nav_menu": {
    "height": "12px",
    "width": "252px"
   },
   "navigate_menu": true,
   "number_sections": true,
   "sideBar": false,
   "threshold": 4,
   "toc_cell": true,
   "toc_section_display": "block",
   "toc_window_display": true,
   "widenNotebook": false
  }
 },
 "nbformat": 4,
 "nbformat_minor": 2
}
