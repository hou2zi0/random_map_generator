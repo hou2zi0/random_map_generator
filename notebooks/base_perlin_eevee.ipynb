{
 "cells": [
  {
   "cell_type": "markdown",
   "metadata": {
    "toc": "true"
   },
   "source": [
    "# Table of Contents\n",
    " <p>"
   ]
  },
  {
   "cell_type": "code",
   "execution_count": 163,
   "metadata": {
    "ExecuteTime": {
     "end_time": "2020-02-26T15:57:50.126414Z",
     "start_time": "2020-02-26T15:57:43.672473Z"
    }
   },
   "outputs": [],
   "source": [
    "%%cython\n",
    "\"\"\"Perlin noise implementation.\"\"\"\n",
    "# Licensed under ISC\n",
    "from itertools import product\n",
    "import math\n",
    "import random\n",
    "\n",
    "\n",
    "cpdef smoothstep(t):\n",
    "    \"\"\"Smooth curve with a zero derivative at 0 and 1, making it useful for\n",
    "    interpolating.\n",
    "    \"\"\"\n",
    "    return t * t * (3. - 2. * t)\n",
    "\n",
    "\n",
    "cpdef lerp(t, a, b):\n",
    "    \"\"\"Linear interpolation between a and b, given a fraction t.\"\"\"\n",
    "    return a + t * (b - a)\n",
    "\n",
    "\n",
    "cdef class PerlinNoiseFactory(object):\n",
    "    \"\"\"Callable that produces Perlin noise for an arbitrary point in an\n",
    "    arbitrary number of dimensions.  The underlying grid is aligned with the\n",
    "    integers.\n",
    "    There is no limit to the coordinates used; new gradients are generated on\n",
    "    the fly as necessary.\n",
    "    \"\"\"\n",
    "    cdef public int dimension\n",
    "    cdef public int octaves\n",
    "    cdef public tile\n",
    "    cdef public unbias\n",
    "    cdef public scale_factor\n",
    "    cdef public gradient\n",
    "\n",
    "    def __init__(self, dimension, octaves=1, tile=(), unbias=False):\n",
    "        \"\"\"Create a new Perlin noise factory in the given number of dimensions,\n",
    "        which should be an integer and at least 1.\n",
    "        More octaves create a foggier and more-detailed noise pattern.  More\n",
    "        than 4 octaves is rather excessive.\n",
    "        ``tile`` can be used to make a seamlessly tiling pattern.  For example:\n",
    "            pnf = PerlinNoiseFactory(2, tile=(0, 3))\n",
    "        This will produce noise that tiles every 3 units vertically, but never\n",
    "        tiles horizontally.\n",
    "        If ``unbias`` is true, the smoothstep function will be applied to the\n",
    "        output before returning it, to counteract some of Perlin noise's\n",
    "        significant bias towards the center of its output range.\n",
    "        \"\"\"\n",
    "        self.dimension = dimension\n",
    "        self.octaves = octaves\n",
    "        self.tile = tile + (0,) * dimension\n",
    "        self.unbias = unbias\n",
    "\n",
    "        # For n dimensions, the range of Perlin noise is ±sqrt(n)/2; multiply\n",
    "        # by this to scale to ±1\n",
    "        self.scale_factor = 2 * dimension ** -0.5\n",
    "\n",
    "        self.gradient = {}\n",
    "\n",
    "    def _generate_gradient(self):\n",
    "        # Generate a random unit vector at each grid point -- this is the\n",
    "        # \"gradient\" vector, in that the grid tile slopes towards it\n",
    "\n",
    "        # 1 dimension is special, since the only unit vector is trivial;\n",
    "        # instead, use a slope between -1 and 1\n",
    "        if self.dimension == 1:\n",
    "            return (random.uniform(-1, 1),)\n",
    "\n",
    "        # Generate a random point on the surface of the unit n-hypersphere;\n",
    "        # this is the same as a random unit vector in n dimensions.  Thanks\n",
    "        # to: http://mathworld.wolfram.com/SpherePointPicking.html\n",
    "        # Pick n normal random variables with stddev 1\n",
    "        random_point = [random.gauss(0, 1) for _ in range(self.dimension)]\n",
    "        # Then scale the result to a unit vector\n",
    "        scale = sum(n * n for n in random_point) ** -0.5\n",
    "        return tuple(coord * scale for coord in random_point)\n",
    "\n",
    "    def get_plain_noise(self, *point):\n",
    "        \"\"\"Get plain noise for a single point, without taking into account\n",
    "        either octaves or tiling.\n",
    "        \"\"\"\n",
    "        if len(point) != self.dimension:\n",
    "            raise ValueError(\"Expected {} values, got {}\".format(\n",
    "                self.dimension, len(point)))\n",
    "\n",
    "        # Build a list of the (min, max) bounds in each dimension\n",
    "        grid_coords = []\n",
    "        for coord in point:\n",
    "            min_coord = math.floor(coord)\n",
    "            max_coord = min_coord + 1\n",
    "            grid_coords.append((min_coord, max_coord))\n",
    "\n",
    "        # Compute the dot product of each gradient vector and the point's\n",
    "        # distance from the corresponding grid point.  This gives you each\n",
    "        # gradient's \"influence\" on the chosen point.\n",
    "        dots = []\n",
    "        for grid_point in product(*grid_coords):\n",
    "            if grid_point not in self.gradient:\n",
    "                self.gradient[grid_point] = self._generate_gradient()\n",
    "            gradient = self.gradient[grid_point]\n",
    "\n",
    "            dot = 0\n",
    "            for i in range(self.dimension):\n",
    "                dot += gradient[i] * (point[i] - grid_point[i])\n",
    "            dots.append(dot)\n",
    "\n",
    "        # Interpolate all those dot products together.  The interpolation is\n",
    "        # done with smoothstep to smooth out the slope as you pass from one\n",
    "        # grid cell into the next.\n",
    "        # Due to the way product() works, dot products are ordered such that\n",
    "        # the last dimension alternates: (..., min), (..., max), etc.  So we\n",
    "        # can interpolate adjacent pairs to \"collapse\" that last dimension.  Then\n",
    "        # the results will alternate in their second-to-last dimension, and so\n",
    "        # forth, until we only have a single value left.\n",
    "        dim = self.dimension\n",
    "        while len(dots) > 1:\n",
    "            dim -= 1\n",
    "            s = smoothstep(point[dim] - grid_coords[dim][0])\n",
    "\n",
    "            next_dots = []\n",
    "            while dots:\n",
    "                next_dots.append(lerp(s, dots.pop(0), dots.pop(0)))\n",
    "\n",
    "            dots = next_dots\n",
    "\n",
    "        return dots[0] * self.scale_factor\n",
    "\n",
    "    def __call__(self, *point):\n",
    "        \"\"\"Get the value of this Perlin noise function at the given point.  The\n",
    "        number of values given should match the number of dimensions.\n",
    "        \"\"\"\n",
    "        ret = 0\n",
    "        for o in range(self.octaves):\n",
    "            o2 = 1 << o\n",
    "            new_point = []\n",
    "            for i, coord in enumerate(point):\n",
    "                coord *= o2\n",
    "                if self.tile[i]:\n",
    "                    coord %= self.tile[i] * o2\n",
    "                new_point.append(coord)\n",
    "            ret += self.get_plain_noise(*new_point) / o2\n",
    "\n",
    "        # Need to scale n back down since adding all those extra octaves has\n",
    "        # probably expanded it beyond ±1\n",
    "        # 1 octave: ±1\n",
    "        # 2 octaves: ±1½\n",
    "        # 3 octaves: ±1¾\n",
    "        ret /= 2 - 2 ** (1 - self.octaves)\n",
    "\n",
    "        if self.unbias:\n",
    "            # The output of the plain Perlin noise algorithm has a fairly\n",
    "            # strong bias towards the center due to the central limit theorem\n",
    "            # -- in fact the top and bottom 1/8 virtually never happen.  That's\n",
    "            # a quarter of our entire output range!  If only we had a function\n",
    "            # in [0..1] that could introduce a bias towards the endpoints...\n",
    "            r = (ret + 1) / 2\n",
    "            # Doing it this many times is a completely made-up heuristic.\n",
    "            for _ in range(int(self.octaves / 2 + 0.5)):\n",
    "                r = smoothstep(r)\n",
    "            ret = r * 2 - 1\n",
    "\n",
    "        return ret"
   ]
  },
  {
   "cell_type": "code",
   "execution_count": 173,
   "metadata": {
    "ExecuteTime": {
     "end_time": "2020-02-26T16:02:41.856956Z",
     "start_time": "2020-02-26T16:02:33.649228Z"
    }
   },
   "outputs": [
    {
     "data": {
      "image/png": "[encoded data removed]",
      "text/plain": [
       "<Figure size 432x288 with 1 Axes>"
      ]
     },
     "metadata": {
      "needs_background": "light"
     },
     "output_type": "display_data"
    }
   ],
   "source": [
    "import matplotlib.pyplot as plt\n",
    "import numpy as np\n",
    "\n",
    "frameSize = 1024\n",
    "\n",
    "noise = []\n",
    "\n",
    "PN = PerlinNoiseFactory(2, \n",
    "                        octaves=1,\n",
    "                        unbias=True\n",
    "                       )\n",
    "\n",
    "for i in range(frameSize):\n",
    "    for j in range(frameSize):\n",
    "        noise.append(PN(i/frameSize,j/frameSize))\n",
    "\n",
    "a = np.asarray(noise)\n",
    "noise = np.interp(a, (a.min(), a.max()), (0, +1))\n",
    "plt.plot(noise)\n",
    "plt.ylabel('some numbers')\n",
    "plt.show()"
   ]
  },
  {
   "cell_type": "code",
   "execution_count": 34,
   "metadata": {
    "ExecuteTime": {
     "end_time": "2020-02-25T15:19:05.614112Z",
     "start_time": "2020-02-25T15:19:05.580923Z"
    }
   },
   "outputs": [],
   "source": [
    "# Beim Setzen der Farbe der Pixel bereits ein 2D-Array anlegen, dass die Art des Pixels enthält (Beach, Forest, Mountain ...)"
   ]
  },
  {
   "cell_type": "code",
   "execution_count": 174,
   "metadata": {
    "ExecuteTime": {
     "end_time": "2020-02-26T16:02:58.126449Z",
     "start_time": "2020-02-26T16:02:58.117789Z"
    }
   },
   "outputs": [
    {
     "data": {
      "text/plain": [
       "array([0.48710408, 0.48771015, 0.48831622, ..., 0.48657223, 0.48712605,\n",
       "       0.48767653])"
      ]
     },
     "execution_count": 174,
     "metadata": {},
     "output_type": "execute_result"
    }
   ],
   "source": [
    "noise"
   ]
  },
  {
   "cell_type": "code",
   "execution_count": null,
   "metadata": {
    "ExecuteTime": {
     "end_time": "2020-02-26T08:25:51.546954Z",
     "start_time": "2020-02-26T08:25:16.832905Z"
    }
   },
   "outputs": [],
   "source": []
  },
  {
   "cell_type": "code",
   "execution_count": 274,
   "metadata": {
    "ExecuteTime": {
     "end_time": "2020-02-26T19:24:38.478108Z",
     "start_time": "2020-02-26T19:24:34.847442Z"
    }
   },
   "outputs": [],
   "source": [
    "%%cython\n",
    "cimport numpy\n",
    "import numpy as np\n",
    "from __main__ import PerlinNoiseFactory\n",
    "\n",
    "cpdef callPN(int frameSize = 1024, int scale = 300, int dimension = 2, int octaves = 1, bint unbias = True): \n",
    "\n",
    "    cdef numpy.ndarray noise = np.zeros((frameSize,frameSize), dtype=np.float)\n",
    "\n",
    "    PN = PerlinNoiseFactory(dimension=dimension, \n",
    "                            octaves=octaves,\n",
    "                            unbias=unbias\n",
    "                           )\n",
    "\n",
    "    cdef int i\n",
    "    cdef int j\n",
    "    for i in range(frameSize):\n",
    "        for j in range(frameSize):\n",
    "            noise[i,j] = PN(i/scale,j/scale)\n",
    "\n",
    "    return noise\n"
   ]
  },
  {
   "cell_type": "code",
   "execution_count": 192,
   "metadata": {
    "ExecuteTime": {
     "end_time": "2020-02-26T16:17:04.357466Z",
     "start_time": "2020-02-26T16:16:56.349579Z"
    }
   },
   "outputs": [
    {
     "name": "stdout",
     "output_type": "stream",
     "text": [
      "CPU times: user 7.88 s, sys: 80.5 ms, total: 7.96 s\n",
      "Wall time: 7.99 s\n"
     ]
    },
    {
     "data": {
      "text/plain": [
       "array([[ 0.        , -0.00075594, -0.00151558, ..., -0.00193394,\n",
       "        -0.00128493, -0.00064027],\n",
       "       [-0.00193553, -0.00269147, -0.00345111, ..., -0.00389893,\n",
       "        -0.00324993, -0.00260528],\n",
       "       [-0.0038831 , -0.00463903, -0.00539866, ..., -0.00585215,\n",
       "        -0.00520316, -0.00455852],\n",
       "       ...,\n",
       "       [-0.00626319, -0.00620858, -0.00615094, ...,  0.00749585,\n",
       "         0.00698831,  0.00648099],\n",
       "       [-0.00416432, -0.00410971, -0.00405209, ...,  0.00551624,\n",
       "         0.00500862,  0.00450125],\n",
       "       [-0.00207656, -0.00202195, -0.00196436, ...,  0.00352509,\n",
       "         0.0030174 ,  0.00250998]])"
      ]
     },
     "execution_count": 192,
     "metadata": {},
     "output_type": "execute_result"
    }
   ],
   "source": [
    "%%time\n",
    "callPN()"
   ]
  },
  {
   "cell_type": "code",
   "execution_count": 162,
   "metadata": {
    "ExecuteTime": {
     "end_time": "2020-02-26T10:57:38.165815Z",
     "start_time": "2020-02-26T10:46:16.481325Z"
    }
   },
   "outputs": [
    {
     "name": "stdout",
     "output_type": "stream",
     "text": [
      "6.82 s ± 441 ms per loop (mean ± std. dev. of 10 runs, 10 loops each)\n"
     ]
    }
   ],
   "source": [
    "%%timeit -r 10 -n 10\n",
    "callPN()"
   ]
  },
  {
   "cell_type": "code",
   "execution_count": 252,
   "metadata": {
    "ExecuteTime": {
     "end_time": "2020-02-26T18:44:11.252006Z",
     "start_time": "2020-02-26T18:43:42.983716Z"
    }
   },
   "outputs": [
    {
     "data": {
      "image/png": "[encoded data removed]",
      "text/plain": [
       "<Figure size 432x288 with 1 Axes>"
      ]
     },
     "metadata": {
      "needs_background": "light"
     },
     "output_type": "display_data"
    }
   ],
   "source": [
    "a = callPN(scale=500, octaves=4).flatten()\n",
    "noise = np.interp(a, (a.min(), a.max()), (0, +1))\n",
    "plt.plot(noise)\n",
    "plt.ylabel('some numbers')\n",
    "plt.show()"
   ]
  },
  {
   "cell_type": "code",
   "execution_count": 191,
   "metadata": {
    "ExecuteTime": {
     "end_time": "2020-02-26T16:16:17.328753Z",
     "start_time": "2020-02-26T16:16:08.591143Z"
    }
   },
   "outputs": [
    {
     "data": {
      "image/png": "[encoded data removed]",
      "text/plain": [
       "<Figure size 432x288 with 1 Axes>"
      ]
     },
     "metadata": {
      "needs_background": "light"
     },
     "output_type": "display_data"
    }
   ],
   "source": [
    "a = callPN().flatten()\n",
    "noise = np.interp(a, (a.min(), a.max()), (0, +1))\n",
    "plt.plot(noise)\n",
    "plt.ylabel('some numbers')\n",
    "plt.show()"
   ]
  },
  {
   "cell_type": "code",
   "execution_count": null,
   "metadata": {
    "ExecuteTime": {
     "end_time": "2020-02-26T16:04:04.955091Z",
     "start_time": "2020-02-26T16:04:04.940369Z"
    }
   },
   "outputs": [],
   "source": []
  },
  {
   "cell_type": "code",
   "execution_count": 196,
   "metadata": {
    "ExecuteTime": {
     "end_time": "2020-02-26T16:44:34.122246Z",
     "start_time": "2020-02-26T16:44:34.111298Z"
    }
   },
   "outputs": [
    {
     "name": "stdout",
     "output_type": "stream",
     "text": [
      "2\n",
      "1\n"
     ]
    }
   ],
   "source": [
    "y,x = (1,2)\n",
    "print(x)\n",
    "print(y)"
   ]
  },
  {
   "cell_type": "code",
   "execution_count": 204,
   "metadata": {
    "ExecuteTime": {
     "end_time": "2020-02-26T16:51:13.993925Z",
     "start_time": "2020-02-26T16:51:13.641847Z"
    }
   },
   "outputs": [
    {
     "name": "stdout",
     "output_type": "stream",
     "text": [
      "/Users/max/Documents/notebooks/perlin\r\n"
     ]
    }
   ],
   "source": [
    "!pwd"
   ]
  },
  {
   "cell_type": "code",
   "execution_count": 207,
   "metadata": {
    "ExecuteTime": {
     "end_time": "2020-02-26T18:14:49.313670Z",
     "start_time": "2020-02-26T18:14:48.788301Z"
    }
   },
   "outputs": [],
   "source": [
    "from PIL import Image\n",
    "from PIL import ImageDraw  \n",
    "import numpy as np\n",
    "import random\n",
    "\n",
    "# Map colours\n",
    "very_dark_blue = [0,0,89, 255]\n",
    "dark_blue = [0,0,139, 255] \n",
    "blue = [65,105,225, 255]\n",
    "light_blue = [135,206,250, 255]\n",
    "green = [34,139,34, 255]\n",
    "dark_green = [0,100,0, 255]\n",
    "sandy = [210,180,140, 255]\n",
    "beach = [238, 214, 175, 255]\n",
    "snow = [255, 250, 250, 255]\n",
    "mountain = [139, 137, 137, 255]\n",
    "gravel = [83,84,78, 255]\n",
    "dark_gravel = [95,95,90, 255]\n",
    "light_gravel = [117, 118, 113, 255]\n",
    "wheat =[245,222,179, 255]"
   ]
  },
  {
   "cell_type": "code",
   "execution_count": 278,
   "metadata": {
    "ExecuteTime": {
     "end_time": "2020-02-26T19:38:46.939793Z",
     "start_time": "2020-02-26T19:38:46.932791Z"
    }
   },
   "outputs": [],
   "source": [
    "shape = (5000, 5000)"
   ]
  },
  {
   "cell_type": "code",
   "execution_count": 279,
   "metadata": {
    "ExecuteTime": {
     "end_time": "2020-02-26T19:38:49.627805Z",
     "start_time": "2020-02-26T19:38:49.603796Z"
    }
   },
   "outputs": [],
   "source": [
    "pixels = np.zeros((shape[0], shape[1], 4), dtype=int)"
   ]
  },
  {
   "cell_type": "code",
   "execution_count": 249,
   "metadata": {
    "ExecuteTime": {
     "end_time": "2020-02-26T18:41:21.003824Z",
     "start_time": "2020-02-26T18:41:13.798513Z"
    }
   },
   "outputs": [
    {
     "data": {
      "text/plain": [
       "array([0.46852078, 0.47080779, 0.47316148, ..., 0.12178826, 0.12110837,\n",
       "       0.12044279])"
      ]
     },
     "execution_count": 249,
     "metadata": {},
     "output_type": "execute_result"
    }
   ],
   "source": [
    "a = callPN(\n",
    "            scale=500, \n",
    "            octaves=4\n",
    "            ).flatten()\n",
    "noise = np.interp(a, (a.min(), a.max()), (0, 1))\n",
    "noise"
   ]
  },
  {
   "cell_type": "code",
   "execution_count": null,
   "metadata": {
    "ExecuteTime": {
     "start_time": "2020-02-27T12:53:15.854Z"
    }
   },
   "outputs": [],
   "source": [
    "\n",
    "size = 5000\n",
    "\n",
    "shape = (size, size)\n",
    "pixels = np.zeros((shape[0], shape[1], 4), dtype=int)\n",
    "\n",
    "a = callPN( frameSize=size,\n",
    "            scale=7000, \n",
    "            octaves=8\n",
    "            ).flatten()\n",
    "noise = np.interp(a, (a.min(), a.max()), (0, 1))\n",
    "\n",
    "for i in range(shape[0]):\n",
    "    for j in range(shape[1]):\n",
    "        i = i\n",
    "        j = j\n",
    "        index = j+(i * shape[0])\n",
    "        \n",
    "        n = noise[index]\n",
    "        \n",
    "        if (n < 0.25):\n",
    "            n = very_dark_blue\n",
    "        elif (n < 0.45):\n",
    "            n = dark_blue\n",
    "        elif (n < 0.54):\n",
    "            n = blue\n",
    "        elif (n < 0.55):\n",
    "            n = light_blue\n",
    "            #beach_coords.append([i,j])\n",
    "        elif (n < 0.56 ):\n",
    "            n = sandy\n",
    "        elif (n < 0.57 ):\n",
    "            n = beach\n",
    "        #elif (n < 0.65):\n",
    "        #    n = green\n",
    "        #elif (n < 0.68):\n",
    "        #    n = wheat\n",
    "        elif (n < 0.65):\n",
    "            n = green\n",
    "        elif (n < 0.75):\n",
    "            n = dark_green\n",
    "            #forrest_coords.append([i,j])\n",
    "        elif (n < 0.77):\n",
    "            n = gravel\n",
    "        elif (n < 0.80):\n",
    "            n = dark_gravel\n",
    "        elif (n < 0.83):\n",
    "            n = light_gravel\n",
    "        elif (n < 0.88):\n",
    "            n = mountain\n",
    "        elif (n <= 1.0):\n",
    "            n = snow\n",
    "        \n",
    "        pixels[i,j] = n\n",
    "        \n",
    "\n",
    "# Use PIL to create an image from the new array of pixels\n",
    "new_image = Image.fromarray(np.array(pixels, dtype=np.uint8), 'RGBA')#.resize((5000, 5000), Image.ANTIALIAS)\n",
    "    \n",
    "new_image.save('interpolated_18_7000.png')\n",
    "#new_image.show('interpolated_4.png')"
   ]
  },
  {
   "cell_type": "code",
   "execution_count": null,
   "metadata": {
    "ExecuteTime": {
     "end_time": "2020-02-26T18:30:20.312844Z",
     "start_time": "2020-02-26T18:30:20.298826Z"
    }
   },
   "outputs": [],
   "source": []
  },
  {
   "cell_type": "code",
   "execution_count": 234,
   "metadata": {
    "ExecuteTime": {
     "end_time": "2020-02-26T18:31:18.028855Z",
     "start_time": "2020-02-26T18:31:18.021521Z"
    }
   },
   "outputs": [],
   "source": []
  },
  {
   "cell_type": "code",
   "execution_count": null,
   "metadata": {
    "ExecuteTime": {
     "end_time": "2020-02-26T18:31:19.614867Z",
     "start_time": "2020-02-26T18:31:19.607516Z"
    }
   },
   "outputs": [],
   "source": []
  },
  {
   "cell_type": "code",
   "execution_count": null,
   "metadata": {},
   "outputs": [],
   "source": [
    "# Cythonify the mag generator function"
   ]
  }
 ],
 "metadata": {
  "kernelspec": {
   "display_name": "Python 3",
   "language": "python",
   "name": "python3"
  },
  "language_info": {
   "codemirror_mode": {
    "name": "ipython",
    "version": 3
   },
   "file_extension": ".py",
   "mimetype": "text/x-python",
   "name": "python",
   "nbconvert_exporter": "python",
   "pygments_lexer": "ipython3",
   "version": "3.7.4"
  },
  "toc": {
   "colors": {
    "hover_highlight": "#DAA520",
    "navigate_num": "#000000",
    "navigate_text": "#333333",
    "running_highlight": "#FF0000",
    "selected_highlight": "#FFD700",
    "sidebar_border": "#EEEEEE",
    "wrapper_background": "#FFFFFF"
   },
   "moveMenuLeft": true,
   "nav_menu": {
    "height": "12px",
    "width": "252px"
   },
   "navigate_menu": true,
   "number_sections": true,
   "sideBar": false,
   "threshold": 4,
   "toc_cell": true,
   "toc_section_display": "block",
   "toc_window_display": true,
   "widenNotebook": false
  }
 },
 "nbformat": 4,
 "nbformat_minor": 2
}
